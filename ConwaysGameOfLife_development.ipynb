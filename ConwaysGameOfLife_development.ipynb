{
 "cells": [
  {
   "cell_type": "code",
   "execution_count": null,
   "metadata": {},
   "outputs": [],
   "source": [
    "#GO TO THE BOTTOM OF THE NOTEBOOK!!!"
   ]
  },
  {
   "cell_type": "code",
   "execution_count": 11,
   "metadata": {},
   "outputs": [
    {
     "name": "stdout",
     "output_type": "stream",
     "text": [
      "hi\n",
      "hi\n",
      "hi\n",
      "hi\n"
     ]
    }
   ],
   "source": [
    "import tkinter\n",
    "main=tkinter.Tk()\n",
    "def printer(e):\n",
    "    print(\"hi\")\n",
    "im=tkinter.PhotoImage(file=\"black.gif\")\n",
    "tk=tkinter.Label(main,image=im,height=5,width=5)\n",
    "tk.grid(row=1,column=1)\n",
    "\n",
    "tk.bind(\"<Button 1>\",printer)\n",
    "\n",
    "tk=tkinter.Label(main,image=im,height=5,width=5)\n",
    "tk.grid(row=1,column=1)\n",
    "\n",
    "tk.bind(\"<Button 1>\",printer)\n",
    "\n",
    "main.mainloop()"
   ]
  },
  {
   "cell_type": "markdown",
   "metadata": {},
   "source": [
    "# Ausgabe des Feldes"
   ]
  },
  {
   "cell_type": "code",
   "execution_count": 36,
   "metadata": {},
   "outputs": [],
   "source": [
    "import tkinter\n",
    "main=tkinter.Tk()\n",
    "imw=tkinter.PhotoImage(file=\"white.gif\")\n",
    "imb=tkinter.PhotoImage(file=\"black.gif\")\n",
    "def delete(e):\n",
    "    l1.destroy()\n",
    "lb=tkinter.Label(main,image=imw,height=10,width=10,borderwidth=1,relief=\"raised\")\n",
    "lb.bind(\"<Button 1>\",delete)\n",
    "lb.pack()\n",
    "\n",
    "l1=tkinter.Label(main,image=imb,height=10,width=10,borderwidth=1,relief=\"sunken\")\n",
    "l1.pack()\n",
    "main.mainloop()"
   ]
  },
  {
   "cell_type": "markdown",
   "metadata": {},
   "source": [
    "# Main Program"
   ]
  },
  {
   "cell_type": "code",
   "execution_count": 72,
   "metadata": {},
   "outputs": [],
   "source": [
    "#imports\n",
    "import tkinter as tk\n",
    "import numpy as np\n",
    "import copy as cp\n",
    "main = tk.Tk()\n",
    "\n",
    "imw=tk.PhotoImage(file=\"white.gif\")\n",
    "imb=tk.PhotoImage(file=\"black.gif\")"
   ]
  },
  {
   "cell_type": "code",
   "execution_count": 73,
   "metadata": {
    "scrolled": true
   },
   "outputs": [],
   "source": [
    "#Variablen\n",
    "imageDict={0:imb,1:imw}\n",
    "\n",
    "cellSize = 5\n",
    "\n",
    "gridSize = 10\n",
    "\n",
    "\n",
    "cellStates=np.zeros((gridSize,gridSize),dtype=int)\n",
    "\n",
    "cellAliveNeighbours=np.zeros((gridSize,gridSize),dtype=int)\n",
    "\n",
    "\n"
   ]
  },
  {
   "cell_type": "code",
   "execution_count": 74,
   "metadata": {},
   "outputs": [],
   "source": [
    "#funktionen\n",
    "def getStayAliveRule():\n",
    "    global stayAliveRule\n",
    "    stayAliveRule=stayAliveList.curselection()\n",
    "    stayAliveLabel[\"text\"]=\"...stay alive\"+str(stayAliveRule)\n",
    "def getGetBornRule():\n",
    "    global getBornRule\n",
    "    getBornRule=getBornList.curselection()\n",
    "    getBornLabel[\"text\"]=\"...get born\"+str(getBornRule)\n",
    "def setRules():\n",
    "    global rules\n",
    "    rules=(stayAliveRule,getBornRule)\n",
    "    rulesLabel[\"text\"]=\"Simulation Rules:\"+str(rules)\n",
    "    \n",
    "\n",
    "def cellStateSwitch(i,j):\n",
    "    if cellStates[i][j]==0:\n",
    "        change=1\n",
    "    else:\n",
    "        change=-1\n",
    "        \n",
    "    cellStates[i][j]+=change\n",
    "    for x in -1,0,1:\n",
    "        for y in -1,0,1:\n",
    "            \n",
    "            if x==0 and y==0:\n",
    "                continue\n",
    "            else:\n",
    "                try:\n",
    "                    cellAliveNeighbours[i+x][j+y]+=change\n",
    "                except:\n",
    "                    pass\n",
    "    gridUpdate()\n",
    "    \n",
    "def statesUpdate():\n",
    "    #global cellStates, cellAliveNeighbours,# rules\n",
    "    cellStatesCopy=cp.deepcopy(cellStates)\n",
    "    cellAliveNeighboursCopy=cp.deepcopy(cellAliveNeighbours)\n",
    "    \n",
    "    for i in range(gridSize):\n",
    "        for j in range(gridSize):\n",
    "                        \n",
    "            if cellStatesCopy[i][j]==1 and not (cellAliveNeighboursCopy[i][j] in rules[0]):#lebende, die nicht am Leben bleiben\n",
    "                cellStateSwitch(i,j)\n",
    "\n",
    "            elif cellStates[i][j]==0 and cellAliveNeighboursCopy[i][j] in rules[1]:#tote, die geboren werden\n",
    "                cellStateSwitch(i,j)\n",
    "def gridUpdate():\n",
    "    for i in range(gridSize):\n",
    "        for j in range(gridSize):\n",
    "            labelList[i][j][\"image\"]=imageDict[cellStates[i][j]]\n",
    "def update():\n",
    "    statesUpdate()\n",
    "    \n",
    "\n",
    "\n",
    "def createNewGrid():\n",
    "    global labelList, cellStates, cellAliveNeighbours\n",
    "    for i in labelList:\n",
    "        for j in i:\n",
    "            j.destroy()\n",
    "\n",
    "    arr=np.zeros((gridSize,gridSize),dtype=int)\n",
    "    labelList=arr.tolist()\n",
    "    for i in range(gridSize):\n",
    "        for j in range(gridSize):\n",
    "            labelList[i][j]=tk.Label(simulGridFrame,image=imb,width=cellSize,height=cellSize,)\n",
    "            labelList[i][j].grid(row=i,column=j)\n",
    "            labelList[i][j].bind(\"<Button 1>\",lambda event,i=i, j=j: cellStateSwitch(i,j))\n",
    "            \n",
    "    cellStates=np.zeros((gridSize,gridSize),dtype=int)\n",
    "    \n",
    "    cellAliveNeighbours=np.zeros((gridSize,gridSize),dtype=int)\n",
    "    \n",
    "def test():\n",
    "    testLabel[\"text\"]=str(cellAliveNeighbours)\n",
    "    \n",
    "def close():\n",
    "    main.destroy()\n",
    "\n"
   ]
  },
  {
   "cell_type": "code",
   "execution_count": 75,
   "metadata": {},
   "outputs": [],
   "source": [
    "#gui\n",
    "\n",
    "###RULES-FRAME\n",
    "rulesFrame = tk.Frame(main)\n",
    "rulesFrame.grid(row=0,column=0)\n",
    "\n",
    "rulesIntroLabel = tk.Label(rulesFrame,text=\"At which neighbourcount a cell is to...\")\n",
    "rulesIntroLabel.grid(row=0,column=0,columnspan=2)\n",
    "\n",
    "##STAY_ALIVE_RULES-FRAME\n",
    "stayAliveRulesFrame = tk.Frame(rulesFrame)\n",
    "stayAliveRulesFrame.grid(row=1,column=0)\n",
    "\n",
    "#S_A_R_F-Labels\n",
    "stayAliveLabel = tk.Label(stayAliveRulesFrame,text=\"...stay alive\")\n",
    "stayAliveLabel.grid(row=0,column=0)\n",
    "\n",
    "stayAliveList = tk.Listbox(stayAliveRulesFrame,height=0,selectmode=\"multiple\")\n",
    "for i in range(9):\n",
    "    stayAliveList.insert(\"end\",i)\n",
    "stayAliveList.grid(row=1,column=0)\n",
    "\n",
    "setStayAliveButton=tk.Button(stayAliveRulesFrame,text=\"Ok\",command=getStayAliveRule)\n",
    "setStayAliveButton.grid(row=2,column=0)\n",
    "\n",
    "##GET_BORN_RULES-FRAME\n",
    "getBornRulesFrame = tk.Frame(rulesFrame)\n",
    "getBornRulesFrame.grid(row=1,column=1)\n",
    "\n",
    "#G_B_R_F-Labels\n",
    "getBornLabel = tk.Label(getBornRulesFrame,text=\"...get born\")\n",
    "getBornLabel.grid(row=0,column=0)\n",
    "\n",
    "getBornList = tk.Listbox(getBornRulesFrame,height=0,selectmode=\"multiple\")\n",
    "for i in range(9):\n",
    "    getBornList.insert(\"end\",i)\n",
    "getBornList.grid(row=1,column=0)\n",
    "\n",
    "setGetBornButton = tk.Button(getBornRulesFrame,text=\"Ok\",command=getGetBornRule)\n",
    "setGetBornButton.grid(row=2,column=0)\n",
    "\n",
    "\n",
    "rulesLabel = tk.Label(rulesFrame,text=\"Simulation Rules:\")\n",
    "rulesLabel.grid(row=2,column=0,columnspan=2)\n",
    "\n",
    "setRulesButton = tk.Button(rulesFrame,text=\"Set the Rules\",command=setRules)\n",
    "setRulesButton.grid(row=3,column=0,columnspan=2)\n",
    "\n",
    "#trennung\n",
    "divider=tk.Label(rulesFrame,text=50*\"-\")\n",
    "divider.grid(row=4,column=0,columnspan=2)\n",
    "\n",
    "###SIMUL-FRAME\n",
    "simulFrame = tk.Frame(main)\n",
    "simulFrame.grid(row=1,column=0,columnspan=2)\n",
    "\n",
    "##SIMUL_GRID-FRAME\n",
    "simulGridFrame = tk.Frame(simulFrame)\n",
    "simulGridFrame.grid(row=0,column=0)\n",
    "\n",
    "arr=np.zeros((1,1),dtype=int)\n",
    "labelList=arr.tolist()\n",
    "labelList[0][0]=tk.Label(simulGridFrame,text=\"<EmptySimulation>\")\n",
    "labelList[0][0].grid(row=0,column=0)\n",
    "\n",
    "#SIMUL_CONTROL-FRAME\n",
    "simulControlFrame = tk.Frame(simulFrame)\n",
    "simulControlFrame.grid(row=0,column=1)\n",
    "\n",
    "#S_C_F-Labels\n",
    "updateButton = tk.Button(simulControlFrame,text=\"Update\",command=update)\n",
    "updateButton.grid(row=1,column=0)\n",
    "\n",
    "simulStartButton = tk.Button(simulControlFrame,text=\"Start New Simulation\",command=createNewGrid)\n",
    "simulStartButton.grid(row=0,column=0)\n",
    "#update per second...\n",
    "\n",
    "\n",
    "testLabel=tk.Label(main)\n",
    "testLabel.grid(row=2,column=0)\n",
    "\n",
    "testB=tk.Button(main,text=\"test\",command=test)\n",
    "testB.grid(row=3,column=0)\n",
    "\n",
    "closeButton=tk.Button(main,text=\"Close\",command=close)\n",
    "closeButton.grid(row=4,column=0,columnspan=2)"
   ]
  },
  {
   "cell_type": "code",
   "execution_count": 76,
   "metadata": {},
   "outputs": [],
   "source": [
    "main.mainloop()"
   ]
  },
  {
   "cell_type": "code",
   "execution_count": null,
   "metadata": {},
   "outputs": [],
   "source": []
  },
  {
   "cell_type": "code",
   "execution_count": null,
   "metadata": {},
   "outputs": [],
   "source": []
  },
  {
   "cell_type": "code",
   "execution_count": null,
   "metadata": {},
   "outputs": [],
   "source": []
  },
  {
   "cell_type": "code",
   "execution_count": null,
   "metadata": {},
   "outputs": [],
   "source": []
  },
  {
   "cell_type": "code",
   "execution_count": null,
   "metadata": {},
   "outputs": [],
   "source": []
  },
  {
   "cell_type": "markdown",
   "metadata": {},
   "source": [
    "# testestestestestestestest"
   ]
  },
  {
   "cell_type": "code",
   "execution_count": 7,
   "metadata": {},
   "outputs": [
    {
     "name": "stdout",
     "output_type": "stream",
     "text": [
      "a\n",
      "b\n",
      "c\n",
      "c\n",
      "b\n"
     ]
    }
   ],
   "source": [
    "def ka():\n",
    "    x=li.curselection()\n",
    "    rulestupel=li.get(\"active\")\n",
    "    print(rulestupel)\n",
    "\n",
    "li=tkinter.Listbox(main,height=0,selectmode=\"multiple\")\n",
    "li.insert(\"end\",\"a\")\n",
    "li.insert(\"end\",\"b\")\n",
    "li.insert(\"end\",\"c\")\n",
    "li.pack()\n",
    "\n",
    "b=tkinter.Button(main,command=ka)\n",
    "b.pack()\n",
    "main.mainloop()"
   ]
  },
  {
   "cell_type": "code",
   "execution_count": 18,
   "metadata": {},
   "outputs": [],
   "source": [
    "def exit():\n",
    "    main.destroy()\n",
    "    \n",
    "exitButton=tkinter.Button(main, text=\"exit\", command=exit)\n",
    "exitButton.pack()"
   ]
  },
  {
   "cell_type": "code",
   "execution_count": null,
   "metadata": {},
   "outputs": [],
   "source": [
    "def pause():\n",
    "    "
   ]
  },
  {
   "cell_type": "code",
   "execution_count": 30,
   "metadata": {},
   "outputs": [
    {
     "name": "stdout",
     "output_type": "stream",
     "text": [
      "krakel.gif\n"
     ]
    }
   ],
   "source": [
    "imageLabel=tkinter.Label(main)\n",
    "im=tkinter.PhotoImage(file=\"krakel.gif\")\n",
    "print(im)\n",
    "imageLabel[\"image\"]=im\n",
    "imageLabel.pack()"
   ]
  },
  {
   "cell_type": "code",
   "execution_count": 20,
   "metadata": {},
   "outputs": [
    {
     "name": "stdout",
     "output_type": "stream",
     "text": [
      "(0, 0)\n",
      "(1, 0)\n",
      "(0, 1)\n"
     ]
    }
   ],
   "source": [
    "import tkinter\n",
    "main=tkinter.Tk()\n",
    "frame=tkinter.Frame(main,relief=\"sunken\")\n",
    "frame.pack()\n",
    "def loc(e):\n",
    "    x=e.x_root-frame.winfo_rootx()\n",
    "    y=e.y_root-frame.winfo_rooty()\n",
    "    \n",
    "    print(frame.grid_location(x,y))\n",
    "    \n",
    "b1=tkinter.Button(frame,text=\"b1\")\n",
    "b1.bind(\"<Button 1>\",loc)\n",
    "b1.grid(row=0,column=0)\n",
    "\n",
    "b2=tkinter.Button(frame,text=\"b2\")\n",
    "b2.bind(\"<Button 1>\",loc)\n",
    "b2.grid(row=1,column=0)\n",
    "\n",
    "b3=tkinter.Button(frame,text=\"b3\")\n",
    "b3.bind(\"<Button 1>\",loc)\n",
    "b3.grid(row=0,column=1)\n",
    "\n",
    "b4=tkinter.Button(frame,text=\"b4\")\n",
    "b4.bind(\"<Button 1>\",loc)\n",
    "b4.grid(row=1,column=1)\n",
    "\n",
    "main.mainloop()"
   ]
  },
  {
   "cell_type": "code",
   "execution_count": 16,
   "metadata": {},
   "outputs": [],
   "source": [
    "import tkinter as tk\n",
    "main=tk.Tk()\n",
    "\n",
    "gridHeight= tk.IntVar()\n",
    "gridHeight.set(0)\n",
    "\n",
    "gridWidth= tk.IntVar()\n",
    "gridWidth.set(0)\n",
    "\n",
    "def gridSizeShow(e):\n",
    "    gridSizeLabel[\"text\"]=\"Grid size:\"+str(gridHeight.get())+\"x\"+str(gridWidth.get())\n",
    "    \n",
    "gridHeightScale=tk.Scale(main,width=10,length=200,orient=\"vertical\",from_=100,to=0,resolution=5,tickinterval=20,label=\"cells\",command=gridSizeShow,variable=gridHeight)\n",
    "gridHeightScale.grid(row=0,column=0)\n",
    "gridWidthScale=tk.Scale(main,width=10,length=200,orient=\"horizontal\",from_=0,to=100,resolution=5,tickinterval=20,label=\"cells\",command=gridSizeShow,variable=gridWidth)\n",
    "gridWidthScale.grid(row=1,column=1)\n",
    "gridSizeLabel = tk.Label(main,text=\"Grid size:\")\n",
    "gridSizeLabel.grid(row=2,column=0, columnspan=2)\n",
    "main.mainloop()"
   ]
  },
  {
   "cell_type": "code",
   "execution_count": null,
   "metadata": {},
   "outputs": [],
   "source": [
    "\"\"\"\n",
    "###SETTING-FRAME\n",
    "settingFrame = tk.Frame(main,relief=\"raised\")\n",
    "settingFrame.grid(row=0,column=1)\n",
    "\n",
    "##GRID_SIZE_SETTING-FRAME\n",
    "gridSizeSettingFrame = tk.Frame(settingFrame,relief=\"sunken\")#Zoom Funktion\n",
    "gridSizeSettingFrame.grid(row=0,column=0)\n",
    "\n",
    "#G_S_S_F-Labels\n",
    "gridSizeScale=tk.Scale(gridSizeSettingFrame,width=10,length=200,orient=\"horizontal\",from_=0,to=50,resolution=5,tickinterval=20,label=\"Grid size in cells:\",command=None,variable=gridSize)\n",
    "gridSizeScale.grid(row=0,column=0)\n",
    "\n",
    "\n",
    "##CELL_SIZE_SETTING-FRAME\n",
    "cellSizeSettingFrame = tk.Frame(settingFrame,relief=\"sunken\")\n",
    "cellSizeSettingFrame.grid(row=1,column=0)\n",
    "\n",
    "#C_S_S_F-Labels\n",
    "cellSizeScale=tk.Scale(cellSizeSettingFrame,width=10,length=200,orient=\"horizontal\",from_=0,to=20,resolution=1,tickinterval=5,label=\"Cell size in pixels:\",command=None,variable=cellSize)\n",
    "cellSizeScale.grid(row=0,column=0)\n",
    "\"\"\"\n",
    "\n",
    "\"\"\"\n",
    "#S_G_F-Labels\n",
    "arr=np.zeros((gridSize,gridSize),dtype=int)\n",
    "labelList=arr.tolist()\n",
    "for i in range(gridSize):\n",
    "    for j in range(gridSize):\n",
    "        labelList[i][j]=tk.Label(simulGridFrame,image=imb,width=cellSize,height=cellSize,)\n",
    "        labelList[i][j].grid(row=i,column=j)\n",
    "        labelList[i][j].bind(\"<Button 1>\",lambda event,i=i, j=j: cellStateSwitch(i,j))\n",
    "\"\"\""
   ]
  },
  {
   "cell_type": "code",
   "execution_count": null,
   "metadata": {},
   "outputs": [],
   "source": []
  },
  {
   "cell_type": "markdown",
   "metadata": {},
   "source": [
    "# GUI regeleingabe"
   ]
  },
  {
   "cell_type": "code",
   "execution_count": null,
   "metadata": {},
   "outputs": [],
   "source": [
    "regelwerk=(23,3)#conways regelwerk:23/3 nachbaranzahl, bei der celle (am leben bleibt/geboren wird)\n",
    "#(1357/1357)Kopierwelt\n",
    "#(12345,3)labyrinthartiges muster"
   ]
  },
  {
   "cell_type": "code",
   "execution_count": 15,
   "metadata": {},
   "outputs": [],
   "source": [
    "import tkinter\n",
    "main=tkinter.Tk()\n",
    "rulesFrame=tkinter.Frame(main,relief=\"sunken\")\n",
    "stayAliveRulesFrame=tkinter.Frame(rulesFrame,relief=\"sunken\")\n",
    "getBornRulesFrame=tkinter.Frame(rulesFrame,relief=\"sunken\")\n",
    "\n"
   ]
  },
  {
   "cell_type": "code",
   "execution_count": 16,
   "metadata": {},
   "outputs": [],
   "source": [
    "#Button Commands\n",
    "def setRules():\n",
    "    global rules\n",
    "    rules=(stayingAliveRule,gettingBornRule)\n",
    "    rulesLabel[\"text\"]=\"Simulation Rules:\"+str(rules)\n",
    "    print(rules)\n",
    "    \n",
    "def getStayingAliveRule():\n",
    "    global stayingAliveRule\n",
    "    stayingAliveRule=stayingAliveList.curselection()\n",
    "    stayingAliveLabel[\"text\"]=\"...stay alive\"+str(stayingAliveRule)\n",
    "    \n",
    "def getGettingBornRule():\n",
    "    global gettingBornRule\n",
    "    gettingBornRule=gettingBornList.curselection()\n",
    "    gettingBornLabel[\"text\"]=\"...get born\"+str(gettingBornRule)"
   ]
  },
  {
   "cell_type": "code",
   "execution_count": 17,
   "metadata": {},
   "outputs": [],
   "source": [
    "#Labels\n",
    "NeighbourCountLabel=tkinter.Label(rulesFrame,text=\"At which neighbourcount a cell is to...\")\n",
    "stayingAliveLabel=tkinter.Label(stayAliveRulesFrame,text=\"...stay alive\")\n",
    "gettingBornLabel=tkinter.Label(getBornRulesFrame,text=\"...get born\")\n",
    "rulesLabel=tkinter.Label(rulesFrame,text=\"Simulation Rules:\")\n",
    "\n",
    "#Listboxen\n",
    "stayingAliveList=tkinter.Listbox(stayAliveRulesFrame,height=0,selectmode=\"multiple\")\n",
    "for i in range(9):\n",
    "    stayingAliveList.insert(\"end\",i)\n",
    "gettingBornList=tkinter.Listbox(getBornRulesFrame,height=0,selectmode=\"multiple\")\n",
    "for i in range(9):\n",
    "    gettingBornList.insert(\"end\",i)\n",
    "\n",
    "    #Buttons\n",
    "setStayingAliveButton=tkinter.Button(stayAliveRulesFrame,text=\"Ok\",command=getStayingAliveRule)\n",
    "setGettingBornButton=tkinter.Button(getBornRulesFrame,text=\"Ok\",command=getGettingBornRule)\n",
    "setRulesButton=tkinter.Button(rulesFrame,text=\"Set the Rules\",command=setRules)"
   ]
  },
  {
   "cell_type": "code",
   "execution_count": 18,
   "metadata": {},
   "outputs": [],
   "source": [
    "#packing\n",
    "rulesFrame.pack()\n",
    "NeighbourCountLabel.grid(row=0,column=0,columnspan=2)\n",
    "\n",
    "stayingAliveLabel.pack()\n",
    "stayingAliveList.pack()\n",
    "setStayingAliveButton.pack()\n",
    "stayAliveRulesFrame.grid(row=1,column=0)\n",
    "\n",
    "gettingBornLabel.pack()\n",
    "gettingBornList.pack()\n",
    "setGettingBornButton.pack()\n",
    "getBornRulesFrame.grid(row=1,column=1)\n",
    "\n",
    "rulesLabel.grid(row=2,column=0,columnspan=2)\n",
    "setRulesButton.grid(row=3,column=0,columnspan=2)\n",
    "\n",
    "main.mainloop()"
   ]
  },
  {
   "cell_type": "code",
   "execution_count": null,
   "metadata": {},
   "outputs": [],
   "source": [
    "########################################################"
   ]
  },
  {
   "cell_type": "code",
   "execution_count": 2,
   "metadata": {},
   "outputs": [],
   "source": [
    "import tkinter,numpy\n",
    "main=tkinter.Tk()\n",
    "def change(i,j):\n",
    "    \n",
    "    lst[i][j][\"text\"]=\"after\"\n",
    "    \n",
    "arr=numpy.zeros((5,5),dtype=int)\n",
    "lst=arr.tolist()\n",
    "for i in range(5):\n",
    "    for j in range(5):\n",
    "        lst[i][j]=tkinter.Label(main,text=\"before\")\n",
    "        lst[i][j].grid(row=i,column=j)\n",
    "        lst[i][j].bind(\"<Button 1>\",lambda event,i=i, j=j: change(i,j))\n",
    "\n",
    "\n",
    "main.mainloop()"
   ]
  },
  {
   "cell_type": "code",
   "execution_count": null,
   "metadata": {},
   "outputs": [],
   "source": []
  },
  {
   "cell_type": "code",
   "execution_count": null,
   "metadata": {},
   "outputs": [],
   "source": []
  }
 ],
 "metadata": {
  "kernelspec": {
   "display_name": "Python 2",
   "language": "python",
   "name": "python2"
  },
  "language_info": {
   "codemirror_mode": {
    "name": "ipython",
    "version": 2
   },
   "file_extension": ".py",
   "mimetype": "text/x-python",
   "name": "python",
   "nbconvert_exporter": "python",
   "pygments_lexer": "ipython2",
   "version": "2.7.16"
  }
 },
 "nbformat": 4,
 "nbformat_minor": 2
}
